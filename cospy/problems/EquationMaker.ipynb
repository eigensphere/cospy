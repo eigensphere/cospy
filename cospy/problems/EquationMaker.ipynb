{
 "cells": [
  {
   "cell_type": "code",
   "execution_count": 1,
   "metadata": {
    "collapsed": true
   },
   "outputs": [],
   "source": [
    "#    ======================================\n",
    "#     ,-----.                              \n",
    "#    '  .--./ ,---.  ,---.  ,---.,--. ,--. \n",
    "#    |  |    | .-. |(  .-' | .-. |\\  '  /  \n",
    "#    '  '--'\\' '-' '.-'  `)| '-' ' \\   '   \n",
    "#     `-----' `---' `----' |  |-'.-'  /    \n",
    "#                          `--'  `---'     \n",
    "#    ============ Cospy  15.01 ============\n",
    "\n",
    "#    Instructions:\n",
    "#\n",
    "#   Modify only the fields with label MODIFY\n",
    "#   The script may not work otherwise\n",
    "\n"
   ]
  },
  {
   "cell_type": "code",
   "execution_count": 2,
   "metadata": {
    "collapsed": false
   },
   "outputs": [
    {
     "name": "stderr",
     "output_type": "stream",
     "text": [
      ":0: FutureWarning: IPython widgets are experimental and may change in the future.\n"
     ]
    }
   ],
   "source": [
    "#Import python packages \n",
    "#Usually you don't need to modify (remove packages)\n",
    "#However, you may need to add packages\n",
    "\n",
    "from cospy.equation_factory import * \n",
    "%matplotlib inline  \n",
    "\n",
    "from IPython.display import display, HTML\n",
    "from IPython.html.widgets import interact, interactive, fixed\n",
    "from IPython.html import widgets\n",
    "import matplotlib.pyplot as plt \n",
    "\n",
    "from sympy.interactive import printing\n",
    "printing.init_printing(use_latex=True)\n",
    "\n"
   ]
  },
  {
   "cell_type": "code",
   "execution_count": null,
   "metadata": {
    "collapsed": false
   },
   "outputs": [],
   "source": [
    "\n",
    "\n"
   ]
  },
  {
   "cell_type": "code",
   "execution_count": 3,
   "metadata": {
    "collapsed": false
   },
   "outputs": [],
   "source": [
    "\n",
    "#define problem's name and fields\n",
    "#an existing problem will be overwritten \n",
    "\n",
    "##########    MODIFY: Any name may work.    ##########\n",
    "problem_name = 'wave equation'   \n",
    "######################################################\n",
    "\n",
    "#define the variables:\n",
    "#use the object Cospy_Fields to define the variables\n",
    "variables=Cospy_Fields()\n",
    "\n",
    "##################    MODIFY: Add any number of variables. ##################\n",
    "# Use add_amr_variable to define variables for time-evolution \n",
    "# Use add_multigrid_variable to define variables for elliptic equation \n",
    "# Use add_auxiliary_variable to define variables which link amr and \n",
    "# multigrid equations (density for example) \n",
    "u = variables.add_amr_variable('u')\n",
    "v = variables.add_amr_variable('v')\n",
    "#############################################################################\n"
   ]
  },
  {
   "cell_type": "code",
   "execution_count": 4,
   "metadata": {
    "collapsed": false
   },
   "outputs": [
    {
     "data": {
      "image/png": "[encoded data removed]",
      "text/latex": [
       "$$\\frac{d}{d t} u{\\left (t \\right )} = v{\\left (x,y,z \\right )}$$"
      ],
      "text/plain": [
       "d                    \n",
       "──(u(t)) = v(x, y, z)\n",
       "dt                   "
      ]
     },
     "metadata": {},
     "output_type": "display_data"
    },
    {
     "data": {
      "image/png": "[encoded data removed]",
      "text/latex": [
       "$$\\frac{d}{d t} v{\\left (t \\right )} = \\frac{\\partial^{2}}{\\partial x^{2}}  u{\\left (x,y,z \\right )} + \\frac{\\partial^{2}}{\\partial y^{2}}  u{\\left (x,y,z \\right )} + \\frac{\\partial^{2}}{\\partial z^{2}}  u{\\left (x,y,z \\right )}$$"
      ],
      "text/plain": [
       "             2                 2                 2            \n",
       "d           ∂                 ∂                 ∂             \n",
       "──(v(t)) = ───(u(x, y, z)) + ───(u(x, y, z)) + ───(u(x, y, z))\n",
       "dt           2                 2                 2            \n",
       "           ∂x                ∂y                ∂z             "
      ]
     },
     "metadata": {},
     "output_type": "display_data"
    }
   ],
   "source": [
    "#define the right hand side of the equations:\n",
    "#use the object Cospy_RHS to define the right hand side of the equations\n",
    "#\n",
    "equations = Cospy_Equations(variables)\n",
    "\n",
    "##################    MODIFY: Add a RHS for each amr variable    ##################\n",
    "#   equations should be of the form:\n",
    "#   f'(t) = F(f_xx,f_yy,f_zz,f_x,f_y,f_z,f)\n",
    "#   where f=[f1,f2,...,fn]\n",
    "#   and fi in variables_amr\n",
    "#   differential opperatios should be defined using sympy notation. \n",
    "a, b =symbols('a b')\n",
    "equations.add_amr_rhs('u', v(x,y,z))\n",
    "equations.add_amr_rhs('v', u(x,y,z).diff(x,2)+u(x,y,z).diff(y,2)+u(x,y,z).diff(z,2))\n",
    "\n",
    "#equations.add_amr_rhs('v', a*u(x,y,z).diff(x,2)+u(x,y,z).diff(y,2)**b+v(x,y,z)*u(x,y,z).diff(z,2))\n",
    "#############################################################################\n",
    "\n",
    "#this will print you equations. Don't modify\n",
    "equations.display()\n",
    "\n",
    "##################    MODIFY: Add an elliptic operator for each multigrid variable    ##################\n",
    "#   operator should be of the form:\n",
    "#   A(f) D^2 f + B(D f)  + C(f) = S \n",
    "#   where f=[f1,f2,...,fn]\n",
    "#   differential opperatios should be defined using sympy notation. \n",
    "#   \n",
    "#equations.add_elliptic_operator('w', A=1,B=u(x,y,z).diff(x)+u(x,y,z).diff(y)+u(x,y,z).diff(z), C=0, S=0 )\n",
    "#\n",
    "#      NOT IMPLEMENTED YET\n",
    "#\n"
   ]
  },
  {
   "cell_type": "code",
   "execution_count": 5,
   "metadata": {
    "collapsed": false
   },
   "outputs": [
    {
     "name": "stdout",
     "output_type": "stream",
     "text": [
      "boundary condition for variable u is Periodic\n",
      "boundary condition for variable v is Periodic\n"
     ]
    }
   ],
   "source": [
    "##################    MODIFY: Add a boundary condition for each amr variable   ##################\n",
    "#   amr boundary condition should be one of:\n",
    "#   a) Dirichlet u(at boundary) = value (value should be specified as argument)\n",
    "#   b) Periodic (no argument required)\n",
    "#\n",
    "\n",
    "equations.add_amr_boundary('u', 'Periodic' , value=0)\n",
    "equations.add_amr_boundary('v', 'Periodic' , value=0)\n",
    "\n",
    "#############################################################################\n",
    "\n",
    "#this will print the boundary condition. Don't modify\n",
    "equations.boundary()\n",
    "\n",
    "\n"
   ]
  },
  {
   "cell_type": "code",
   "execution_count": 6,
   "metadata": {
    "collapsed": false
   },
   "outputs": [
    {
     "name": "stdout",
     "output_type": "stream",
     "text": [
      "initial data for variable u is:\n"
     ]
    },
    {
     "data": {
      "image/png": "[encoded data removed]",
      "text/latex": [
       "$$e^{- x^{2} - y^{2} - z^{2}}$$"
      ],
      "text/plain": [
       "    2    2    2\n",
       " - x  - y  - z \n",
       "ℯ              "
      ]
     },
     "metadata": {},
     "output_type": "display_data"
    },
    {
     "name": "stdout",
     "output_type": "stream",
     "text": [
      "initial data for variable v is:\n"
     ]
    },
    {
     "data": {
      "image/png": "[encoded data removed]",
      "text/latex": [
       "$$\\frac{\\partial}{\\partial x} u{\\left (x,y,z \\right )}$$"
      ],
      "text/plain": [
       "∂             \n",
       "──(u(x, y, z))\n",
       "∂x            "
      ]
     },
     "metadata": {},
     "output_type": "display_data"
    }
   ],
   "source": [
    "##################    MODIFY: Add a initial data for each amr variable   ##################\n",
    "#   initial data should be ther right hand side of:\n",
    "#\n",
    "#   fi(t0)=F(x,y,z)\n",
    "#\n",
    "#   and fi  is an amr variable\n",
    "#   differential opperatios should be defined using sympy notation. \n",
    "#   you must specify the arguments of the function\n",
    "#   use: dudx, duddx and Lap_u to specify differential operators\n",
    "\n",
    "equations.add_amr_initial_data('u', exp(-(x**2+y**2+z**2) ))\n",
    "equations.add_amr_initial_data('v', u(x,y,z).diff(x,1)  )\n",
    "\n",
    "#############################################################################\n",
    "\n",
    "#this will print the boundary condition. Don't modify\n",
    "equations.initial_data()"
   ]
  },
  {
   "cell_type": "code",
   "execution_count": 7,
   "metadata": {
    "collapsed": false
   },
   "outputs": [
    {
     "name": "stdout",
     "output_type": "stream",
     "text": [
      "SUMARY:\n",
      "Problem name: wave equation\n",
      "Warining: Problem exists, OVERWRITE?\n",
      "\n"
     ]
    }
   ],
   "source": [
    "##################    REVIEW:   ##################\n",
    "#   Check your equations, initial data and boundary condition\n",
    "#\n",
    "#   If the equation exists, it will be overwrite. \n",
    "#\n",
    "#   click the make_equation box to write the equations to a source file. \n",
    "#   Be sure to change the problem name in your parameter file. \n",
    "#\n",
    "interact(lambda make_equation: review_make_equation(problem_name,equations,make_equation) ,make_equation=False)\n",
    "#############################################################################\n",
    "print('')"
   ]
  },
  {
   "cell_type": "code",
   "execution_count": 8,
   "metadata": {
    "collapsed": false
   },
   "outputs": [
    {
     "ename": "UndefinedError",
     "evalue": "'id_arg' is undefined",
     "output_type": "error",
     "traceback": [
      "\u001b[0;31m---------------------------------------------------------------------------\u001b[0m",
      "\u001b[0;31mUndefinedError\u001b[0m                            Traceback (most recent call last)",
      "\u001b[0;32m<ipython-input-8-baba1333aa9a>\u001b[0m in \u001b[0;36m<module>\u001b[0;34m()\u001b[0m\n\u001b[1;32m    122\u001b[0m             \u001b[0mifile\u001b[0m\u001b[0;34m.\u001b[0m\u001b[0mwrite\u001b[0m\u001b[0;34m(\u001b[0m\u001b[0mmodule_import\u001b[0m\u001b[0;34m+\u001b[0m\u001b[0;34m'\\n'\u001b[0m\u001b[0;34m)\u001b[0m\u001b[0;34m\u001b[0m\u001b[0m\n\u001b[1;32m    123\u001b[0m \u001b[0;34m\u001b[0m\u001b[0m\n\u001b[0;32m--> 124\u001b[0;31m \u001b[0mmake_problem\u001b[0m\u001b[0;34m(\u001b[0m\u001b[0mproblem_name\u001b[0m\u001b[0;34m,\u001b[0m \u001b[0mequations\u001b[0m\u001b[0;34m)\u001b[0m\u001b[0;34m\u001b[0m\u001b[0m\n\u001b[0m",
      "\u001b[0;32m<ipython-input-8-baba1333aa9a>\u001b[0m in \u001b[0;36mmake_problem\u001b[0;34m(problem_name, equations)\u001b[0m\n\u001b[1;32m    102\u001b[0m     \u001b[0mtemplete_fields\u001b[0m\u001b[0;34m[\u001b[0m\u001b[0;34m'boundary_dict'\u001b[0m\u001b[0;34m]\u001b[0m\u001b[0;34m=\u001b[0m\u001b[0mboundary_dict\u001b[0m\u001b[0;34m\u001b[0m\u001b[0m\n\u001b[1;32m    103\u001b[0m \u001b[0;34m\u001b[0m\u001b[0m\n\u001b[0;32m--> 104\u001b[0;31m     \u001b[0mprint\u001b[0m\u001b[0;34m(\u001b[0m\u001b[0mtemplate\u001b[0m\u001b[0;34m.\u001b[0m\u001b[0mrender\u001b[0m\u001b[0;34m(\u001b[0m\u001b[0mtemplete_fields\u001b[0m\u001b[0;34m)\u001b[0m\u001b[0;34m)\u001b[0m\u001b[0;34m\u001b[0m\u001b[0m\n\u001b[0m\u001b[1;32m    105\u001b[0m \u001b[0;34m\u001b[0m\u001b[0m\n\u001b[1;32m    106\u001b[0m     \u001b[0;32mreturn\u001b[0m\u001b[0;34m\u001b[0m\u001b[0m\n",
      "\u001b[0;32m/sw/lib/python3.4/site-packages/jinja2/environment.py\u001b[0m in \u001b[0;36mrender\u001b[0;34m(self, *args, **kwargs)\u001b[0m\n\u001b[1;32m    967\u001b[0m         \u001b[0;32mexcept\u001b[0m \u001b[0mException\u001b[0m\u001b[0;34m:\u001b[0m\u001b[0;34m\u001b[0m\u001b[0m\n\u001b[1;32m    968\u001b[0m             \u001b[0mexc_info\u001b[0m \u001b[0;34m=\u001b[0m \u001b[0msys\u001b[0m\u001b[0;34m.\u001b[0m\u001b[0mexc_info\u001b[0m\u001b[0;34m(\u001b[0m\u001b[0;34m)\u001b[0m\u001b[0;34m\u001b[0m\u001b[0m\n\u001b[0;32m--> 969\u001b[0;31m         \u001b[0;32mreturn\u001b[0m \u001b[0mself\u001b[0m\u001b[0;34m.\u001b[0m\u001b[0menvironment\u001b[0m\u001b[0;34m.\u001b[0m\u001b[0mhandle_exception\u001b[0m\u001b[0;34m(\u001b[0m\u001b[0mexc_info\u001b[0m\u001b[0;34m,\u001b[0m \u001b[0;32mTrue\u001b[0m\u001b[0;34m)\u001b[0m\u001b[0;34m\u001b[0m\u001b[0m\n\u001b[0m\u001b[1;32m    970\u001b[0m \u001b[0;34m\u001b[0m\u001b[0m\n\u001b[1;32m    971\u001b[0m     \u001b[0;32mdef\u001b[0m \u001b[0mstream\u001b[0m\u001b[0;34m(\u001b[0m\u001b[0mself\u001b[0m\u001b[0;34m,\u001b[0m \u001b[0;34m*\u001b[0m\u001b[0margs\u001b[0m\u001b[0;34m,\u001b[0m \u001b[0;34m**\u001b[0m\u001b[0mkwargs\u001b[0m\u001b[0;34m)\u001b[0m\u001b[0;34m:\u001b[0m\u001b[0;34m\u001b[0m\u001b[0m\n",
      "\u001b[0;32m/sw/lib/python3.4/site-packages/jinja2/environment.py\u001b[0m in \u001b[0;36mhandle_exception\u001b[0;34m(self, exc_info, rendered, source_hint)\u001b[0m\n\u001b[1;32m    740\u001b[0m             \u001b[0mself\u001b[0m\u001b[0;34m.\u001b[0m\u001b[0mexception_handler\u001b[0m\u001b[0;34m(\u001b[0m\u001b[0mtraceback\u001b[0m\u001b[0;34m)\u001b[0m\u001b[0;34m\u001b[0m\u001b[0m\n\u001b[1;32m    741\u001b[0m         \u001b[0mexc_type\u001b[0m\u001b[0;34m,\u001b[0m \u001b[0mexc_value\u001b[0m\u001b[0;34m,\u001b[0m \u001b[0mtb\u001b[0m \u001b[0;34m=\u001b[0m \u001b[0mtraceback\u001b[0m\u001b[0;34m.\u001b[0m\u001b[0mstandard_exc_info\u001b[0m\u001b[0;34m\u001b[0m\u001b[0m\n\u001b[0;32m--> 742\u001b[0;31m         \u001b[0mreraise\u001b[0m\u001b[0;34m(\u001b[0m\u001b[0mexc_type\u001b[0m\u001b[0;34m,\u001b[0m \u001b[0mexc_value\u001b[0m\u001b[0;34m,\u001b[0m \u001b[0mtb\u001b[0m\u001b[0;34m)\u001b[0m\u001b[0;34m\u001b[0m\u001b[0m\n\u001b[0m\u001b[1;32m    743\u001b[0m \u001b[0;34m\u001b[0m\u001b[0m\n\u001b[1;32m    744\u001b[0m     \u001b[0;32mdef\u001b[0m \u001b[0mjoin_path\u001b[0m\u001b[0;34m(\u001b[0m\u001b[0mself\u001b[0m\u001b[0;34m,\u001b[0m \u001b[0mtemplate\u001b[0m\u001b[0;34m,\u001b[0m \u001b[0mparent\u001b[0m\u001b[0;34m)\u001b[0m\u001b[0;34m:\u001b[0m\u001b[0;34m\u001b[0m\u001b[0m\n",
      "\u001b[0;32m/sw/lib/python3.4/site-packages/jinja2/_compat.py\u001b[0m in \u001b[0;36mreraise\u001b[0;34m(tp, value, tb)\u001b[0m\n\u001b[1;32m     34\u001b[0m     \u001b[0;32mdef\u001b[0m \u001b[0mreraise\u001b[0m\u001b[0;34m(\u001b[0m\u001b[0mtp\u001b[0m\u001b[0;34m,\u001b[0m \u001b[0mvalue\u001b[0m\u001b[0;34m,\u001b[0m \u001b[0mtb\u001b[0m\u001b[0;34m=\u001b[0m\u001b[0;32mNone\u001b[0m\u001b[0;34m)\u001b[0m\u001b[0;34m:\u001b[0m\u001b[0;34m\u001b[0m\u001b[0m\n\u001b[1;32m     35\u001b[0m         \u001b[0;32mif\u001b[0m \u001b[0mvalue\u001b[0m\u001b[0;34m.\u001b[0m\u001b[0m__traceback__\u001b[0m \u001b[0;32mis\u001b[0m \u001b[0;32mnot\u001b[0m \u001b[0mtb\u001b[0m\u001b[0;34m:\u001b[0m\u001b[0;34m\u001b[0m\u001b[0m\n\u001b[0;32m---> 36\u001b[0;31m             \u001b[0;32mraise\u001b[0m \u001b[0mvalue\u001b[0m\u001b[0;34m.\u001b[0m\u001b[0mwith_traceback\u001b[0m\u001b[0;34m(\u001b[0m\u001b[0mtb\u001b[0m\u001b[0;34m)\u001b[0m\u001b[0;34m\u001b[0m\u001b[0m\n\u001b[0m\u001b[1;32m     37\u001b[0m         \u001b[0;32mraise\u001b[0m \u001b[0mvalue\u001b[0m\u001b[0;34m\u001b[0m\u001b[0m\n\u001b[1;32m     38\u001b[0m \u001b[0;34m\u001b[0m\u001b[0m\n",
      "\u001b[0;32m/Users/pablo/Dropbox/Research/codes/Cospy/cospy/templates/equation_template.py\u001b[0m in \u001b[0;36m<module>\u001b[0;34m()\u001b[0m\n\u001b[1;32m     36\u001b[0m         \u001b[0margs\u001b[0m\u001b[0;34m=\u001b[0m\u001b[0mlist\u001b[0m\u001b[0;34m(\u001b[0m\u001b[0;34m)\u001b[0m\u001b[0;34m\u001b[0m\u001b[0m\n\u001b[1;32m     37\u001b[0m \u001b[0;34m\u001b[0m\u001b[0m\n\u001b[0;32m---> 38\u001b[0;31m         \u001b[0;34m{\u001b[0m\u001b[0;34m%\u001b[0m \u001b[0;32mfor\u001b[0m \u001b[0marg\u001b[0m \u001b[0;32min\u001b[0m \u001b[0mid_arg\u001b[0m\u001b[0;34m[\u001b[0m\u001b[0mfield\u001b[0m\u001b[0;34m]\u001b[0m \u001b[0;34m%\u001b[0m\u001b[0;34m}\u001b[0m\u001b[0;34m\u001b[0m\u001b[0m\n\u001b[0m\u001b[1;32m     39\u001b[0m         \u001b[0margs\u001b[0m\u001b[0;34m.\u001b[0m\u001b[0mappend\u001b[0m\u001b[0;34m(\u001b[0m\u001b[0;34m'{{arg}}'\u001b[0m\u001b[0;34m)\u001b[0m\u001b[0;34m\u001b[0m\u001b[0m\n\u001b[1;32m     40\u001b[0m         \u001b[0;34m{\u001b[0m\u001b[0;34m%\u001b[0m \u001b[0mendfor\u001b[0m \u001b[0;34m%\u001b[0m\u001b[0;34m}\u001b[0m\u001b[0;34m\u001b[0m\u001b[0m\n",
      "\u001b[0;32m/sw/lib/python3.4/site-packages/jinja2/environment.py\u001b[0m in \u001b[0;36mgetitem\u001b[0;34m(self, obj, argument)\u001b[0m\n\u001b[1;32m    376\u001b[0m         \u001b[0;34m\"\"\"Get an item or attribute of an object but prefer the item.\"\"\"\u001b[0m\u001b[0;34m\u001b[0m\u001b[0m\n\u001b[1;32m    377\u001b[0m         \u001b[0;32mtry\u001b[0m\u001b[0;34m:\u001b[0m\u001b[0;34m\u001b[0m\u001b[0m\n\u001b[0;32m--> 378\u001b[0;31m             \u001b[0;32mreturn\u001b[0m \u001b[0mobj\u001b[0m\u001b[0;34m[\u001b[0m\u001b[0margument\u001b[0m\u001b[0;34m]\u001b[0m\u001b[0;34m\u001b[0m\u001b[0m\n\u001b[0m\u001b[1;32m    379\u001b[0m         \u001b[0;32mexcept\u001b[0m \u001b[0;34m(\u001b[0m\u001b[0mTypeError\u001b[0m\u001b[0;34m,\u001b[0m \u001b[0mLookupError\u001b[0m\u001b[0;34m)\u001b[0m\u001b[0;34m:\u001b[0m\u001b[0;34m\u001b[0m\u001b[0m\n\u001b[1;32m    380\u001b[0m             \u001b[0;32mif\u001b[0m \u001b[0misinstance\u001b[0m\u001b[0;34m(\u001b[0m\u001b[0margument\u001b[0m\u001b[0;34m,\u001b[0m \u001b[0mstring_types\u001b[0m\u001b[0;34m)\u001b[0m\u001b[0;34m:\u001b[0m\u001b[0;34m\u001b[0m\u001b[0m\n",
      "\u001b[0;31mUndefinedError\u001b[0m: 'id_arg' is undefined"
     ]
    }
   ],
   "source": [
    "\n",
    "def make_problem(problem_name, equations):\n",
    "\n",
    "    dir_name = os.path.abspath(os.path.curdir+'/../')\n",
    "    template_file_name = 'equation_template.py' \n",
    "    output_file = dir_name+'/'+problem_name.replace(' ','_')+'.py'    \n",
    "  \n",
    "    \n",
    "    template_enviroment = Environment(\n",
    "        autoescape=False,\n",
    "        loader=FileSystemLoader(os.path.join(dir_name, 'templates')),\n",
    "        trim_blocks=False)\n",
    "    \n",
    "    \n",
    "    template = template_enviroment.get_template(template_file_name)\n",
    "    \n",
    "    templete_fields = dict()\n",
    "\n",
    "    field_map = list()\n",
    "    field_dict=dict()\n",
    "    for k in equations.variables.amr_variables.keys():\n",
    "        field_dict[k] = 'amr'\n",
    "        field_map.append(sstr(k))\n",
    "\n",
    "    templete_fields['field_map'] = field_map\n",
    "        \n",
    "    templete_fields['field_dict'] = field_dict\n",
    "\n",
    "    templete_fields['field_list'] = list(equations.variables.amr_variables.keys())\n",
    "    \n",
    "    \n",
    "    id_dict = dict()\n",
    "    for id_f in equations.amr_initial_data:\n",
    "        id_dict[id_f['variable']] = parse_expr(id_f['function'])\n",
    "    templete_fields['id_dict'] = id_dict\n",
    "\n",
    "    \n",
    "    id_arg = dict()\n",
    "    for arg in equations.amr_initial_data:\n",
    "        id_dict[id_f['variable']] = parse_expr(id_f['function'])\n",
    "    templete_fields['id_dict'] = id_dict\n",
    "\n",
    "    \n",
    "    \n",
    "    rhs_dict = dict()\n",
    "    \n",
    "    for eq in equations.amr_equations:\n",
    "        rhs_dict[sstr(eq['lhs'])] = parse_expr(eq['rhs'])\n",
    "    \n",
    "    templete_fields['rhs_dict']=rhs_dict\n",
    "    \n",
    "    boundary_dict = dict()\n",
    "    for boundary in equations.amr_boundary:\n",
    "        if boundary['condition'] == 'Dirichlet':\n",
    "            boundary_dict[boundary['variable']] = boundary['condition']+':'+str(boundary['value'])\n",
    "        elif boundary['condition'] == 'Periodic':\n",
    "            boundary_dict[boundary['variable']] = boundary['condition']\n",
    " \n",
    "           \n",
    "            \n",
    "    templete_fields['boundary_dict']=boundary_dict\n",
    "    \n",
    "    print(template.render(templete_fields))\n",
    "\n",
    "    return\n",
    "    with open(output_file, \"w\") as pfile:\n",
    "        pfile.write(template.render(templete_fields))\n",
    "        \n",
    "    file_import=dir_name+'/equations.py'\n",
    "    import_exist=False\n",
    "    \n",
    "    module_import = 'import cospy.'+problem_name.replace(' ','_')\n",
    "    with open(file_import, \"r\") as ifile:\n",
    "        for line in ifile:\n",
    "            if 'import' in line:\n",
    "                if module_import in line:\n",
    "                    import_exist = True\n",
    "                    break\n",
    "    if not import_exist:\n",
    "        with open(file_import, \"a\") as ifile:\n",
    "            ifile.write(module_import+'\\n')    \n",
    "    \n",
    "make_problem(problem_name, equations)"
   ]
  },
  {
   "cell_type": "code",
   "execution_count": 71,
   "metadata": {
    "collapsed": false
   },
   "outputs": [
    {
     "data": {
      "text/plain": [
       "'dudx'"
      ]
     },
     "execution_count": 71,
     "metadata": {},
     "output_type": "execute_result"
    }
   ],
   "source": [
    "def parse_derivative(var,axis, order):\n",
    "    a = ['x','y','z']\n",
    "    o = ['d','dd']\n",
    "    return 'd'+var+o[order-1]+a[axis]\n",
    "    \n",
    "def parse_diff(var, x_axis, y_axis,z_axis):\n",
    "    if x_axis * y_axis * z_axis ==0:\n",
    "        if x_axis != 0:\n",
    "            return parse_derivative(var,0,x_axis)\n",
    "        if y_axis != 0:\n",
    "            return parse_derivative(var,0,y_axis)\n",
    "        if z_axis != 0:\n",
    "            return parse_derivative(var,0,z_axis)\n",
    "    if x_axis == y_axis  and y_axis == z_axis and x_axis == 2:\n",
    "        return 'Lap_'+var\n",
    "    \n",
    "    logging.error('operator not implemented in parse_diff var %s, x axis %d, y axis %d z axis %d',var,x_axis,y_axis,z_axis)\n",
    "    exit(1)\n",
    "\n",
    "    \n",
    "def parse_expr(expr):\n",
    "    \n",
    "    arg_list=list()\n",
    "    for arg in expr.args:\n",
    "        arg_list.append(parse_expr(arg))\n",
    "        \n",
    "    if expr.func.is_Add:       \n",
    "        return '+'.join(arg_list)\n",
    "    if expr.func.is_Mul:       \n",
    "        return '*'.join(arg_list)\n",
    "    if expr.func.is_Pow:       \n",
    "        return '**'.join(arg_list)\n",
    "    if expr.func.is_Derivative:   \n",
    "\n",
    "        var = arg_list[0]\n",
    "        x_der=0\n",
    "        y_der=0\n",
    "        z_der=0 \n",
    "        for c in arg_list[1:]:\n",
    "            if 'x' in c:\n",
    "                x_der+=1\n",
    "            elif 'y' in c:\n",
    "                y_der+=1\n",
    "            elif 'z' in c:\n",
    "                z_der+=1 \n",
    "        \n",
    "        return parse_diff(var, x_der,y_der,z_der)\n",
    "\n",
    "\n",
    "    if expr.func.is_Function:\n",
    "        if len(expr.args) == 1:\n",
    "            return sstr(expr.func)+'('+','.join(arg_list)+')'\n",
    "        else:\n",
    "            return sstr(expr.func)\n",
    "    \n",
    "    return sstr(expr)\n",
    "\n",
    "parse_expr(equations.amr_initial_data[1]['function'])"
   ]
  },
  {
   "cell_type": "code",
   "execution_count": 79,
   "metadata": {
    "collapsed": false
   },
   "outputs": [
    {
     "name": "stdout",
     "output_type": "stream",
     "text": [
      "u 1 0 0\n"
     ]
    },
    {
     "data": {
      "text/plain": [
       "'ux,'"
      ]
     },
     "execution_count": 79,
     "metadata": {},
     "output_type": "execute_result"
    }
   ],
   "source": [
    "def parse_args(expr, deept=0):\n",
    "    arg_list=list()\n",
    "    for arg in expr.args:\n",
    "        arg_list.append(parse_args(arg,deept+1))\n",
    "        \n",
    "    if expr.func.is_Derivative:   \n",
    "        var = arg_list[0]\n",
    "        x_der=0\n",
    "        y_der=0\n",
    "        z_der=0 \n",
    "        for c in arg_list[1:]:\n",
    "            if 'x' in c:\n",
    "                x_der+=1\n",
    "            elif 'y' in c:\n",
    "                y_der+=1\n",
    "            elif 'z' in c:\n",
    "                z_der+=1 \n",
    "        \n",
    "        print(var, x_der,y_der,z_der)\n",
    "        \n",
    "\n",
    "    if expr.func.is_Function:\n",
    "        if len(expr.args) == 1:\n",
    "            return sstr(expr.func)+'('+','.join(arg_list)+')'\n",
    "        else:\n",
    "            return sstr(expr.func)\n",
    "\n",
    "\n",
    "    if expr.is_Symbol:   \n",
    "        return sstr(expr)+','\n",
    "    return ''.join(arg_list)\n",
    "    \n",
    "parse_args(equations.amr_initial_data[1]['function'])\n",
    "\n",
    "\n"
   ]
  },
  {
   "cell_type": "code",
   "execution_count": 32,
   "metadata": {
    "collapsed": true
   },
   "outputs": [],
   "source": [
    "id_f=equations.amr_initial_data[0]['function']\n",
    "\n"
   ]
  },
  {
   "cell_type": "code",
   "execution_count": 51,
   "metadata": {
    "collapsed": false
   },
   "outputs": [
    {
     "data": {
      "text/plain": [
       "True"
      ]
     },
     "execution_count": 51,
     "metadata": {},
     "output_type": "execute_result"
    }
   ],
   "source": [
    "id_f.args[0].args[0].args[1].args[0].is_Symbol"
   ]
  },
  {
   "cell_type": "code",
   "execution_count": 67,
   "metadata": {
    "collapsed": false
   },
   "outputs": [
    {
     "data": {
      "image/png": "[encoded data removed]",
      "text/latex": [
       "$$\\frac{\\partial}{\\partial x} u{\\left (x,y,z \\right )}$$"
      ],
      "text/plain": [
       "∂             \n",
       "──(u(x, y, z))\n",
       "∂x            "
      ]
     },
     "execution_count": 67,
     "metadata": {},
     "output_type": "execute_result"
    }
   ],
   "source": [
    "equations.amr_initial_data[1]['function']"
   ]
  },
  {
   "cell_type": "code",
   "execution_count": null,
   "metadata": {
    "collapsed": true
   },
   "outputs": [],
   "source": []
  }
 ],
 "metadata": {
  "kernelspec": {
   "display_name": "Python 3",
   "language": "python",
   "name": "python3"
  },
  "language_info": {
   "codemirror_mode": {
    "name": "ipython",
    "version": 3
   },
   "file_extension": ".py",
   "mimetype": "text/x-python",
   "name": "python",
   "nbconvert_exporter": "python",
   "pygments_lexer": "ipython3",
   "version": "3.4.3"
  }
 },
 "nbformat": 4,
 "nbformat_minor": 0
}
